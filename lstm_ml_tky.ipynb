{
  "cells": [
    {
      "cell_type": "code",
      "source": [
        "!pip install  pygeohash"
      ],
      "metadata": {
        "id": "ldUVAyVXTfep",
        "colab": {
          "base_uri": "https://localhost:8080/"
        },
        "outputId": "9c588c38-fec0-4757-b1c2-0b87d913e2d4"
      },
      "execution_count": 125,
      "outputs": [
        {
          "output_type": "stream",
          "name": "stdout",
          "text": [
            "Requirement already satisfied: pygeohash in /usr/local/lib/python3.7/dist-packages (1.2.0)\n"
          ]
        }
      ]
    },
    {
      "cell_type": "code",
      "execution_count": 126,
      "metadata": {
        "id": "xIK1KeT5Fto4"
      },
      "outputs": [],
      "source": [
        "import pandas as pd\n",
        "import numpy as np\n",
        "import pandas\n",
        "from keras.models import Sequential\n",
        "from keras.layers import Dense\n",
        "from sklearn.preprocessing import LabelEncoder\n",
        "import pygeohash as pgh\n",
        "from datetime import datetime\n",
        "from sklearn import model_selection\n",
        "from sklearn.metrics import classification_report\n",
        "from sklearn.metrics import confusion_matrix\n",
        "from sklearn.metrics import accuracy_score\n",
        "from sklearn.metrics import plot_confusion_matrix,f1_score,precision_score,recall_score,precision_recall_curve,accuracy_score,classification_report,plot_precision_recall_curve\n",
        "from sklearn.model_selection import train_test_split"
      ]
    },
    {
      "cell_type": "code",
      "execution_count": 4,
      "metadata": {
        "id": "8jqw8hM2b95d",
        "colab": {
          "base_uri": "https://localhost:8080/"
        },
        "outputId": "003e5e1c-a169-46d7-887a-368210310556"
      },
      "outputs": [
        {
          "output_type": "stream",
          "name": "stdout",
          "text": [
            "Mounted at /content/drive\n"
          ]
        }
      ],
      "source": [
        "from google.colab import drive\n",
        "drive.mount('/content/drive')"
      ]
    },
    {
      "cell_type": "code",
      "execution_count": 127,
      "metadata": {
        "id": "YSVksk7evLlY"
      },
      "outputs": [],
      "source": [
        "df=pd.read_csv(\"/content/drive/MyDrive/datasets/dataset_TSMC2014_TKY.csv\")"
      ]
    },
    {
      "cell_type": "code",
      "execution_count": 129,
      "metadata": {
        "id": "VBq7Vf2ivr_s",
        "colab": {
          "base_uri": "https://localhost:8080/",
          "height": 206
        },
        "outputId": "217448f3-2bc0-469d-af91-e57a598de485"
      },
      "outputs": [
        {
          "output_type": "execute_result",
          "data": {
            "text/plain": [
              "   userId                   venueId           venueCategoryId  \\\n",
              "0    1541  4f0fd5a8e4b03856eeb6c8cb  4bf58dd8d48988d10c951735   \n",
              "1     868  4b7b884ff964a5207d662fe3  4bf58dd8d48988d1d1941735   \n",
              "2     114  4c16fdda96040f477cc473a5  4d954b0ea243a5684a65b473   \n",
              "3     868  4c178638c2dfc928651ea869  4bf58dd8d48988d118951735   \n",
              "4    1458  4f568309e4b071452e447afe  4f2a210c4b9023bd5841ed28   \n",
              "\n",
              "           venueCategory   latitude   longitude  timezoneOffset  \\\n",
              "0         Cosmetics Shop  35.705101  139.619590             540   \n",
              "1  Ramen /  Noodle House  35.715581  139.800317             540   \n",
              "2      Convenience Store  35.714542  139.480065             540   \n",
              "3      Food & Drink Shop  35.725592  139.776633             540   \n",
              "4    Housing Development  35.656083  139.734046             540   \n",
              "\n",
              "                     utcTimestamp  \n",
              "0  Tue Apr 03 18:17:18 +0000 2012  \n",
              "1  Tue Apr 03 18:22:04 +0000 2012  \n",
              "2  Tue Apr 03 19:12:07 +0000 2012  \n",
              "3  Tue Apr 03 19:12:13 +0000 2012  \n",
              "4  Tue Apr 03 19:18:23 +0000 2012  "
            ],
            "text/html": [
              "\n",
              "  <div id=\"df-16b627b8-8643-4eb2-9fab-2e21c8e95478\">\n",
              "    <div class=\"colab-df-container\">\n",
              "      <div>\n",
              "<style scoped>\n",
              "    .dataframe tbody tr th:only-of-type {\n",
              "        vertical-align: middle;\n",
              "    }\n",
              "\n",
              "    .dataframe tbody tr th {\n",
              "        vertical-align: top;\n",
              "    }\n",
              "\n",
              "    .dataframe thead th {\n",
              "        text-align: right;\n",
              "    }\n",
              "</style>\n",
              "<table border=\"1\" class=\"dataframe\">\n",
              "  <thead>\n",
              "    <tr style=\"text-align: right;\">\n",
              "      <th></th>\n",
              "      <th>userId</th>\n",
              "      <th>venueId</th>\n",
              "      <th>venueCategoryId</th>\n",
              "      <th>venueCategory</th>\n",
              "      <th>latitude</th>\n",
              "      <th>longitude</th>\n",
              "      <th>timezoneOffset</th>\n",
              "      <th>utcTimestamp</th>\n",
              "    </tr>\n",
              "  </thead>\n",
              "  <tbody>\n",
              "    <tr>\n",
              "      <th>0</th>\n",
              "      <td>1541</td>\n",
              "      <td>4f0fd5a8e4b03856eeb6c8cb</td>\n",
              "      <td>4bf58dd8d48988d10c951735</td>\n",
              "      <td>Cosmetics Shop</td>\n",
              "      <td>35.705101</td>\n",
              "      <td>139.619590</td>\n",
              "      <td>540</td>\n",
              "      <td>Tue Apr 03 18:17:18 +0000 2012</td>\n",
              "    </tr>\n",
              "    <tr>\n",
              "      <th>1</th>\n",
              "      <td>868</td>\n",
              "      <td>4b7b884ff964a5207d662fe3</td>\n",
              "      <td>4bf58dd8d48988d1d1941735</td>\n",
              "      <td>Ramen /  Noodle House</td>\n",
              "      <td>35.715581</td>\n",
              "      <td>139.800317</td>\n",
              "      <td>540</td>\n",
              "      <td>Tue Apr 03 18:22:04 +0000 2012</td>\n",
              "    </tr>\n",
              "    <tr>\n",
              "      <th>2</th>\n",
              "      <td>114</td>\n",
              "      <td>4c16fdda96040f477cc473a5</td>\n",
              "      <td>4d954b0ea243a5684a65b473</td>\n",
              "      <td>Convenience Store</td>\n",
              "      <td>35.714542</td>\n",
              "      <td>139.480065</td>\n",
              "      <td>540</td>\n",
              "      <td>Tue Apr 03 19:12:07 +0000 2012</td>\n",
              "    </tr>\n",
              "    <tr>\n",
              "      <th>3</th>\n",
              "      <td>868</td>\n",
              "      <td>4c178638c2dfc928651ea869</td>\n",
              "      <td>4bf58dd8d48988d118951735</td>\n",
              "      <td>Food &amp; Drink Shop</td>\n",
              "      <td>35.725592</td>\n",
              "      <td>139.776633</td>\n",
              "      <td>540</td>\n",
              "      <td>Tue Apr 03 19:12:13 +0000 2012</td>\n",
              "    </tr>\n",
              "    <tr>\n",
              "      <th>4</th>\n",
              "      <td>1458</td>\n",
              "      <td>4f568309e4b071452e447afe</td>\n",
              "      <td>4f2a210c4b9023bd5841ed28</td>\n",
              "      <td>Housing Development</td>\n",
              "      <td>35.656083</td>\n",
              "      <td>139.734046</td>\n",
              "      <td>540</td>\n",
              "      <td>Tue Apr 03 19:18:23 +0000 2012</td>\n",
              "    </tr>\n",
              "  </tbody>\n",
              "</table>\n",
              "</div>\n",
              "      <button class=\"colab-df-convert\" onclick=\"convertToInteractive('df-16b627b8-8643-4eb2-9fab-2e21c8e95478')\"\n",
              "              title=\"Convert this dataframe to an interactive table.\"\n",
              "              style=\"display:none;\">\n",
              "        \n",
              "  <svg xmlns=\"http://www.w3.org/2000/svg\" height=\"24px\"viewBox=\"0 0 24 24\"\n",
              "       width=\"24px\">\n",
              "    <path d=\"M0 0h24v24H0V0z\" fill=\"none\"/>\n",
              "    <path d=\"M18.56 5.44l.94 2.06.94-2.06 2.06-.94-2.06-.94-.94-2.06-.94 2.06-2.06.94zm-11 1L8.5 8.5l.94-2.06 2.06-.94-2.06-.94L8.5 2.5l-.94 2.06-2.06.94zm10 10l.94 2.06.94-2.06 2.06-.94-2.06-.94-.94-2.06-.94 2.06-2.06.94z\"/><path d=\"M17.41 7.96l-1.37-1.37c-.4-.4-.92-.59-1.43-.59-.52 0-1.04.2-1.43.59L10.3 9.45l-7.72 7.72c-.78.78-.78 2.05 0 2.83L4 21.41c.39.39.9.59 1.41.59.51 0 1.02-.2 1.41-.59l7.78-7.78 2.81-2.81c.8-.78.8-2.07 0-2.86zM5.41 20L4 18.59l7.72-7.72 1.47 1.35L5.41 20z\"/>\n",
              "  </svg>\n",
              "      </button>\n",
              "      \n",
              "  <style>\n",
              "    .colab-df-container {\n",
              "      display:flex;\n",
              "      flex-wrap:wrap;\n",
              "      gap: 12px;\n",
              "    }\n",
              "\n",
              "    .colab-df-convert {\n",
              "      background-color: #E8F0FE;\n",
              "      border: none;\n",
              "      border-radius: 50%;\n",
              "      cursor: pointer;\n",
              "      display: none;\n",
              "      fill: #1967D2;\n",
              "      height: 32px;\n",
              "      padding: 0 0 0 0;\n",
              "      width: 32px;\n",
              "    }\n",
              "\n",
              "    .colab-df-convert:hover {\n",
              "      background-color: #E2EBFA;\n",
              "      box-shadow: 0px 1px 2px rgba(60, 64, 67, 0.3), 0px 1px 3px 1px rgba(60, 64, 67, 0.15);\n",
              "      fill: #174EA6;\n",
              "    }\n",
              "\n",
              "    [theme=dark] .colab-df-convert {\n",
              "      background-color: #3B4455;\n",
              "      fill: #D2E3FC;\n",
              "    }\n",
              "\n",
              "    [theme=dark] .colab-df-convert:hover {\n",
              "      background-color: #434B5C;\n",
              "      box-shadow: 0px 1px 3px 1px rgba(0, 0, 0, 0.15);\n",
              "      filter: drop-shadow(0px 1px 2px rgba(0, 0, 0, 0.3));\n",
              "      fill: #FFFFFF;\n",
              "    }\n",
              "  </style>\n",
              "\n",
              "      <script>\n",
              "        const buttonEl =\n",
              "          document.querySelector('#df-16b627b8-8643-4eb2-9fab-2e21c8e95478 button.colab-df-convert');\n",
              "        buttonEl.style.display =\n",
              "          google.colab.kernel.accessAllowed ? 'block' : 'none';\n",
              "\n",
              "        async function convertToInteractive(key) {\n",
              "          const element = document.querySelector('#df-16b627b8-8643-4eb2-9fab-2e21c8e95478');\n",
              "          const dataTable =\n",
              "            await google.colab.kernel.invokeFunction('convertToInteractive',\n",
              "                                                     [key], {});\n",
              "          if (!dataTable) return;\n",
              "\n",
              "          const docLinkHtml = 'Like what you see? Visit the ' +\n",
              "            '<a target=\"_blank\" href=https://colab.research.google.com/notebooks/data_table.ipynb>data table notebook</a>'\n",
              "            + ' to learn more about interactive tables.';\n",
              "          element.innerHTML = '';\n",
              "          dataTable['output_type'] = 'display_data';\n",
              "          await google.colab.output.renderOutput(dataTable, element);\n",
              "          const docLink = document.createElement('div');\n",
              "          docLink.innerHTML = docLinkHtml;\n",
              "          element.appendChild(docLink);\n",
              "        }\n",
              "      </script>\n",
              "    </div>\n",
              "  </div>\n",
              "  "
            ]
          },
          "metadata": {},
          "execution_count": 129
        }
      ],
      "source": [
        "df.head()"
      ]
    },
    {
      "cell_type": "code",
      "execution_count": 130,
      "metadata": {
        "id": "9dA8ik-cnSBW",
        "colab": {
          "base_uri": "https://localhost:8080/"
        },
        "outputId": "a9683c64-6f1d-4575-8832-929fe790152b"
      },
      "outputs": [
        {
          "output_type": "stream",
          "name": "stdout",
          "text": [
            "<class 'pandas.core.frame.DataFrame'>\n",
            "RangeIndex: 573703 entries, 0 to 573702\n",
            "Data columns (total 8 columns):\n",
            " #   Column           Non-Null Count   Dtype  \n",
            "---  ------           --------------   -----  \n",
            " 0   userId           573703 non-null  int64  \n",
            " 1   venueId          573703 non-null  object \n",
            " 2   venueCategoryId  573703 non-null  object \n",
            " 3   venueCategory    573703 non-null  object \n",
            " 4   latitude         573703 non-null  float64\n",
            " 5   longitude        573703 non-null  float64\n",
            " 6   timezoneOffset   573703 non-null  int64  \n",
            " 7   utcTimestamp     573703 non-null  object \n",
            "dtypes: float64(2), int64(2), object(4)\n",
            "memory usage: 35.0+ MB\n"
          ]
        }
      ],
      "source": [
        "df.info()"
      ]
    },
    {
      "cell_type": "code",
      "execution_count": 131,
      "metadata": {
        "id": "O86sagh0DV8P"
      },
      "outputs": [],
      "source": [
        "data = df[[\"venueCategoryId\",\"latitude\",\"longitude\"]]"
      ]
    },
    {
      "cell_type": "code",
      "execution_count": 132,
      "metadata": {
        "id": "fxNtbSwKeOJ_"
      },
      "outputs": [],
      "source": [
        "#num_val= dict(enumerate(data.venueCategoryId.unique()))\n",
        "#num_val"
      ]
    },
    {
      "cell_type": "code",
      "execution_count": 133,
      "metadata": {
        "id": "4lsrRttXyhev",
        "colab": {
          "base_uri": "https://localhost:8080/"
        },
        "outputId": "49888df6-2481-44a6-a9d0-64969c995e60"
      },
      "outputs": [
        {
          "output_type": "stream",
          "name": "stderr",
          "text": [
            "/usr/local/lib/python3.7/dist-packages/ipykernel_launcher.py:1: SettingWithCopyWarning: \n",
            "A value is trying to be set on a copy of a slice from a DataFrame.\n",
            "Try using .loc[row_indexer,col_indexer] = value instead\n",
            "\n",
            "See the caveats in the documentation: https://pandas.pydata.org/pandas-docs/stable/user_guide/indexing.html#returning-a-view-versus-a-copy\n",
            "  \"\"\"Entry point for launching an IPython kernel.\n"
          ]
        }
      ],
      "source": [
        "data['Lat,Long'] = data[['latitude', 'longitude']].apply(tuple, axis=1)"
      ]
    },
    {
      "cell_type": "code",
      "execution_count": 134,
      "metadata": {
        "id": "zssQUTCOeKFG"
      },
      "outputs": [],
      "source": [
        "data=data.drop([\"latitude\",\"longitude\"],axis=1,inplace=False)"
      ]
    },
    {
      "cell_type": "code",
      "source": [
        "df['geohash'] = \"\""
      ],
      "metadata": {
        "id": "BEAt_DC0RoGF"
      },
      "execution_count": 135,
      "outputs": []
    },
    {
      "cell_type": "code",
      "execution_count": 136,
      "metadata": {
        "id": "23vahOy-dA6x"
      },
      "outputs": [],
      "source": [
        "target=df[\"venueCategoryId\"]"
      ]
    },
    {
      "cell_type": "code",
      "source": [
        "\n",
        "for index,row in df.iterrows():\n",
        "            value = pgh.encode(row['latitude'],row['longitude'], precision=5)\n",
        "            df.at[index,\"geohash\"]=value"
      ],
      "metadata": {
        "id": "W2Ma479rRsh7"
      },
      "execution_count": 137,
      "outputs": []
    },
    {
      "cell_type": "code",
      "source": [
        "var_mod = df[[\"venueCategory\",\"venueId\",\"geohash\",\"venueCategoryId\"]]"
      ],
      "metadata": {
        "id": "xJ1fQ_m1R-_8"
      },
      "execution_count": 138,
      "outputs": []
    },
    {
      "cell_type": "code",
      "source": [
        "from sklearn.preprocessing import LabelEncoder\n",
        "LE = LabelEncoder()"
      ],
      "metadata": {
        "id": "iBGxhX6sSEzD"
      },
      "execution_count": 139,
      "outputs": []
    },
    {
      "cell_type": "code",
      "source": [
        "for i in var_mod:\n",
        "    df[i] = LE.fit_transform(df[i])"
      ],
      "metadata": {
        "id": "nwYRiKNlSGFl"
      },
      "execution_count": 140,
      "outputs": []
    },
    {
      "cell_type": "code",
      "source": [
        "print('There are {} uniques categories.'.format(len(df['geohash'].unique())))\n",
        "df.groupby('geohash')['geohash'].count().sort_values(ascending=False)"
      ],
      "metadata": {
        "colab": {
          "base_uri": "https://localhost:8080/"
        },
        "id": "xE3bE8wPSGPx",
        "outputId": "1181a7b0-5f15-4690-8587-03661680b556"
      },
      "execution_count": 141,
      "outputs": [
        {
          "output_type": "stream",
          "name": "stdout",
          "text": [
            "There are 81 uniques categories.\n"
          ]
        },
        {
          "output_type": "execute_result",
          "data": {
            "text/plain": [
              "geohash\n",
              "62    88872\n",
              "40    52392\n",
              "50    43090\n",
              "32    35199\n",
              "31    34937\n",
              "      ...  \n",
              "75        9\n",
              "36        9\n",
              "76        4\n",
              "80        2\n",
              "37        1\n",
              "Name: geohash, Length: 81, dtype: int64"
            ]
          },
          "metadata": {},
          "execution_count": 141
        }
      ]
    },
    {
      "cell_type": "code",
      "execution_count": 142,
      "metadata": {
        "id": "OqXfQNdUlC-C",
        "colab": {
          "base_uri": "https://localhost:8080/"
        },
        "outputId": "1446e6f6-c16e-417d-ab36-ebce04a3c81d"
      },
      "outputs": [
        {
          "output_type": "stream",
          "name": "stdout",
          "text": [
            "247\n"
          ]
        }
      ],
      "source": [
        "print(df['venueCategory'].nunique())"
      ]
    },
    {
      "cell_type": "code",
      "execution_count": 143,
      "metadata": {
        "id": "BQ9EU4wIeaqf",
        "colab": {
          "base_uri": "https://localhost:8080/"
        },
        "outputId": "952b60c1-ccb8-40f6-ac65-b09afc404239"
      },
      "outputs": [
        {
          "output_type": "execute_result",
          "data": {
            "text/plain": [
              "0         4bf58dd8d48988d10c951735\n",
              "1         4bf58dd8d48988d1d1941735\n",
              "2         4d954b0ea243a5684a65b473\n",
              "3         4bf58dd8d48988d118951735\n",
              "4         4f2a210c4b9023bd5841ed28\n",
              "                    ...           \n",
              "573698    4bf58dd8d48988d1e9931735\n",
              "573699    4bf58dd8d48988d129951735\n",
              "573700    4bf58dd8d48988d1dc931735\n",
              "573701    4bf58dd8d48988d16e941735\n",
              "573702    4bf58dd8d48988d10d951735\n",
              "Name: venueCategoryId, Length: 573703, dtype: object"
            ]
          },
          "metadata": {},
          "execution_count": 143
        }
      ],
      "source": [
        "target"
      ]
    },
    {
      "cell_type": "code",
      "source": [
        "df.drop(labels=['utcTimestamp', 'latitude','longitude','userId'],axis=1,inplace=True)"
      ],
      "metadata": {
        "id": "8iK0wEypSReg"
      },
      "execution_count": 144,
      "outputs": []
    },
    {
      "cell_type": "code",
      "execution_count": 145,
      "metadata": {
        "id": "r59VUvlQig2S"
      },
      "outputs": [],
      "source": [
        "#num_val= dict(map(reversed, num_val.items()))\n",
        "#num_val"
      ]
    },
    {
      "cell_type": "code",
      "execution_count": 146,
      "metadata": {
        "id": "UaOMWgGSeJ8U"
      },
      "outputs": [],
      "source": [
        "from sklearn.model_selection import train_test_split"
      ]
    },
    {
      "cell_type": "code",
      "execution_count": 147,
      "metadata": {
        "id": "WNYbD8ligg6l"
      },
      "outputs": [],
      "source": [
        "X=data.values"
      ]
    },
    {
      "cell_type": "code",
      "execution_count": 148,
      "metadata": {
        "id": "MlC7BFqwgm_1"
      },
      "outputs": [],
      "source": [
        "y=target"
      ]
    },
    {
      "cell_type": "code",
      "source": [
        "df.columns"
      ],
      "metadata": {
        "colab": {
          "base_uri": "https://localhost:8080/"
        },
        "id": "oxRYdNJqTHk1",
        "outputId": "30f694b6-8c86-4d2d-bd23-3297fc40ec6e"
      },
      "execution_count": 149,
      "outputs": [
        {
          "output_type": "execute_result",
          "data": {
            "text/plain": [
              "Index(['venueId', 'venueCategoryId', 'venueCategory', 'timezoneOffset',\n",
              "       'geohash'],\n",
              "      dtype='object')"
            ]
          },
          "metadata": {},
          "execution_count": 149
        }
      ]
    },
    {
      "cell_type": "code",
      "source": [
        "dataset=df[[ 'venueCategory','venueId', 'venueCategoryId', 'timezoneOffset','geohash']]"
      ],
      "metadata": {
        "id": "INm5p4gKS--y"
      },
      "execution_count": 150,
      "outputs": []
    },
    {
      "cell_type": "code",
      "source": [
        "dataset=dataset.values"
      ],
      "metadata": {
        "id": "qjcZdFaSTo2D"
      },
      "execution_count": 151,
      "outputs": []
    },
    {
      "cell_type": "code",
      "source": [
        "X = dataset[:,1:5].astype(float)\n",
        "Y = dataset[:,0]"
      ],
      "metadata": {
        "id": "cYeBfp8XSZFW"
      },
      "execution_count": 152,
      "outputs": []
    },
    {
      "cell_type": "code",
      "source": [
        "Y"
      ],
      "metadata": {
        "colab": {
          "base_uri": "https://localhost:8080/"
        },
        "id": "ObGDKa1ITsxS",
        "outputId": "25930c3b-7013-43c0-e897-f91a20aec6b1"
      },
      "execution_count": 153,
      "outputs": [
        {
          "output_type": "execute_result",
          "data": {
            "text/plain": [
              "array([ 64, 185,  62, ..., 228,  86, 186])"
            ]
          },
          "metadata": {},
          "execution_count": 153
        }
      ]
    },
    {
      "cell_type": "code",
      "source": [
        "from tensorflow.keras import utils as np_utils"
      ],
      "metadata": {
        "id": "p30Vurq5T4FO"
      },
      "execution_count": 154,
      "outputs": []
    },
    {
      "cell_type": "code",
      "source": [
        "# encode class values as integers\n",
        "encoder = LabelEncoder()\n",
        "encoder.fit(Y)\n",
        "encoded_Y = encoder.transform(Y)\n",
        "# convert integers to dummy variables (i.e. one hot encoded)\n",
        "dummy_y = np_utils.to_categorical(encoded_Y)"
      ],
      "metadata": {
        "id": "-xe12e5cT4jM"
      },
      "execution_count": 155,
      "outputs": []
    },
    {
      "cell_type": "code",
      "execution_count": 156,
      "metadata": {
        "id": "axNDjbNpjLxi"
      },
      "outputs": [],
      "source": [
        "#data['venueCategoryId'] = data[\"venueCategoryId\"].apply(lambda x: num_val[x])"
      ]
    },
    {
      "cell_type": "code",
      "execution_count": 157,
      "metadata": {
        "colab": {
          "base_uri": "https://localhost:8080/"
        },
        "id": "ucHrT3Tod1WB",
        "outputId": "49293f74-da39-4401-e515-975902c3160e"
      },
      "outputs": [
        {
          "output_type": "stream",
          "name": "stdout",
          "text": [
            "(384381, 4) (189322, 4) (384381, 247) (189322, 247)\n"
          ]
        }
      ],
      "source": [
        "X_train, X_test, y_train, y_test = train_test_split(X,dummy_y, test_size=0.33,random_state=2)\n",
        "print(X_train.shape, X_test.shape, y_train.shape, y_test.shape)"
      ]
    },
    {
      "cell_type": "code",
      "execution_count": 158,
      "metadata": {
        "id": "C4E1aZx1lcP0"
      },
      "outputs": [],
      "source": [
        "from keras.layers import Dense\n",
        "from keras.layers import LSTM\n",
        "from keras.layers.embeddings import Embedding\n",
        "from keras.models import Sequential, Model"
      ]
    },
    {
      "cell_type": "code",
      "execution_count": 159,
      "metadata": {
        "id": "8K47VLoTmwjA"
      },
      "outputs": [],
      "source": [
        "ndim = X.shape[1]"
      ]
    },
    {
      "cell_type": "code",
      "source": [
        "top_words=1000\n",
        "embedding_vecor_length=300"
      ],
      "metadata": {
        "id": "oLh1qQn0oKJ1"
      },
      "execution_count": 160,
      "outputs": []
    },
    {
      "cell_type": "code",
      "source": [
        "dataset.shape"
      ],
      "metadata": {
        "colab": {
          "base_uri": "https://localhost:8080/"
        },
        "id": "PTuGegP6YRYs",
        "outputId": "46d87db8-e314-46ff-a97c-e5da8733f59f"
      },
      "execution_count": 161,
      "outputs": [
        {
          "output_type": "execute_result",
          "data": {
            "text/plain": [
              "(573703, 5)"
            ]
          },
          "metadata": {},
          "execution_count": 161
        }
      ]
    },
    {
      "cell_type": "code",
      "source": [
        "import tensorflow as tf\n",
        "\n",
        "physical_devices = tf.config.list_physical_devices('GPU')\n",
        "try:\n",
        "  tf.config.experimental.set_memory_growth(physical_devices[0], True)\n",
        "except:\n",
        "  # Invalid device or cannot modify virtual devices once initialized.\n",
        "  pass\n"
      ],
      "metadata": {
        "id": "hk4tNWfMCI_F"
      },
      "execution_count": 162,
      "outputs": []
    },
    {
      "cell_type": "code",
      "source": [
        "from keras.layers import Dense,Dropout, Activation, Flatten\n",
        "from keras.regularizers import L2\n",
        "from keras.layers.core import Dropout"
      ],
      "metadata": {
        "id": "kdst9Q-HY1v_"
      },
      "execution_count": 163,
      "outputs": []
    },
    {
      "cell_type": "code",
      "source": [
        "embed_dim = 300\n",
        "lstm_out = 100\n",
        "batch_size = 128\n",
        "\n",
        "model = Sequential()\n",
        "model.add(Embedding(200, embed_dim,input_length = X.shape[1],embeddings_regularizer=\"l2\"))\n",
        "model.add(LSTM(lstm_out,activation=\"relu\"))\n",
        "model.add(Dense(247,activation='softmax'))\n",
        "model.compile(loss = 'categorical_crossentropy', optimizer='adam',metrics = ['accuracy'])\n",
        "print(model.summary())"
      ],
      "metadata": {
        "colab": {
          "base_uri": "https://localhost:8080/"
        },
        "id": "TGJJ7PYm7fwa",
        "outputId": "a363d2cd-8911-469f-aac0-5d11fc0d273e"
      },
      "execution_count": 164,
      "outputs": [
        {
          "output_type": "stream",
          "name": "stdout",
          "text": [
            "Model: \"sequential_22\"\n",
            "_________________________________________________________________\n",
            " Layer (type)                Output Shape              Param #   \n",
            "=================================================================\n",
            " embedding_22 (Embedding)    (None, 4, 300)            60000     \n",
            "                                                                 \n",
            " lstm_21 (LSTM)              (None, 100)               160400    \n",
            "                                                                 \n",
            " dense_19 (Dense)            (None, 247)               24947     \n",
            "                                                                 \n",
            "=================================================================\n",
            "Total params: 245,347\n",
            "Trainable params: 245,347\n",
            "Non-trainable params: 0\n",
            "_________________________________________________________________\n",
            "None\n"
          ]
        }
      ]
    },
    {
      "cell_type": "code",
      "source": [
        "history=model.fit(X_train, y_train,validation_data=(X_test,y_test),batch_size = 128, epochs=1, verbose = 2)"
      ],
      "metadata": {
        "id": "CJ_auw8d7i9O"
      },
      "execution_count": null,
      "outputs": []
    },
    {
      "cell_type": "code",
      "source": [
        "# list all data in history\n",
        "print(history.history.keys())"
      ],
      "metadata": {
        "id": "CZo8AWDVs819"
      },
      "execution_count": null,
      "outputs": []
    },
    {
      "cell_type": "code",
      "source": [
        "score,acc = model.evaluate(X_test, y_test, verbose = 2, batch_size = 128)\n",
        "print(\"Score: %.2f\" % (score))\n",
        "print(\"Validation Accuracy: %.2f\" % (acc))"
      ],
      "metadata": {
        "id": "hz0JZs-zkekV"
      },
      "execution_count": null,
      "outputs": []
    },
    {
      "cell_type": "code",
      "source": [
        "# summarize history for accuracy\n",
        "import matplotlib.pyplot as plt\n",
        "plt.plot(history.history['accuracy'])\n",
        "plt.plot(history.history['val_accuracy'])\n",
        "plt.title('model accuracy')\n",
        "plt.ylabel('accuracy')\n",
        "plt.xlabel('epoch')\n",
        "plt.legend(['train', 'test'], loc='upper left')\n",
        "plt.show()"
      ],
      "metadata": {
        "id": "83B9lje2sadv"
      },
      "execution_count": null,
      "outputs": []
    },
    {
      "cell_type": "code",
      "source": [
        "# summarize history for loss\n",
        "plt.plot(history.history['loss'])\n",
        "plt.plot(history.history['val_loss'])\n",
        "plt.title('model loss')\n",
        "plt.ylabel('loss')\n",
        "plt.xlabel('epoch')\n",
        "plt.legend(['train', 'test'], loc='upper left')\n",
        "plt.show()"
      ],
      "metadata": {
        "id": "irLmz_HntTQh"
      },
      "execution_count": null,
      "outputs": []
    }
  ],
  "metadata": {
    "accelerator": "GPU",
    "colab": {
      "collapsed_sections": [],
      "name": " lstm_ml_tky.ipynb",
      "provenance": []
    },
    "kernelspec": {
      "display_name": "Python 3",
      "name": "python3"
    },
    "language_info": {
      "name": "python"
    }
  },
  "nbformat": 4,
  "nbformat_minor": 0
}